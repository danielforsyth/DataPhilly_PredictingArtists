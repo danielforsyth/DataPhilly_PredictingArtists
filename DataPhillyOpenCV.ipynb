{
 "metadata": {
  "name": "",
  "signature": "sha256:6ce813ca3eff0b4a6bc3d5c19fea797bfd422ec464401ad43798b27de71591e0"
 },
 "nbformat": 3,
 "nbformat_minor": 0,
 "worksheets": [
  {
   "cells": [
    {
     "cell_type": "heading",
     "level": 1,
     "metadata": {},
     "source": [
      "OpenCV Intro"
     ]
    },
    {
     "cell_type": "code",
     "collapsed": false,
     "input": [
      "#Import libraries \n",
      "import cv2\n",
      "import numpy\n",
      "import pylab as pl\n",
      "%matplotlib"
     ],
     "language": "python",
     "metadata": {},
     "outputs": [
      {
       "output_type": "stream",
       "stream": "stdout",
       "text": [
        "Using matplotlib backend: MacOSX\n"
       ]
      }
     ],
     "prompt_number": 10
    },
    {
     "cell_type": "code",
     "collapsed": false,
     "input": [
      "#Read in image\n",
      "img = cv2.imread('/Users/danielforsyth/Desktop/DataPhilly/skyline.jpg')"
     ],
     "language": "python",
     "metadata": {},
     "outputs": [],
     "prompt_number": 11
    },
    {
     "cell_type": "code",
     "collapsed": false,
     "input": [
      "#Show image BGR colorspace\n",
      "pl.imshow(img)"
     ],
     "language": "python",
     "metadata": {},
     "outputs": [
      {
       "metadata": {},
       "output_type": "pyout",
       "prompt_number": 12,
       "text": [
        "<matplotlib.image.AxesImage at 0x10b8a0590>"
       ]
      }
     ],
     "prompt_number": 12
    },
    {
     "cell_type": "code",
     "collapsed": false,
     "input": [
      "#Convert to RGB\n",
      "img = img[:,:,[2,1,0]]"
     ],
     "language": "python",
     "metadata": {},
     "outputs": [],
     "prompt_number": 13
    },
    {
     "cell_type": "code",
     "collapsed": false,
     "input": [
      "#Show image\n",
      "pl.imshow(img)"
     ],
     "language": "python",
     "metadata": {},
     "outputs": [
      {
       "metadata": {},
       "output_type": "pyout",
       "prompt_number": 14,
       "text": [
        "<matplotlib.image.AxesImage at 0x10d19f6d0>"
       ]
      }
     ],
     "prompt_number": 14
    },
    {
     "cell_type": "code",
     "collapsed": false,
     "input": [
      "#Array of all pixels\n",
      "img"
     ],
     "language": "python",
     "metadata": {},
     "outputs": [
      {
       "metadata": {},
       "output_type": "pyout",
       "prompt_number": 15,
       "text": [
        "array([[[105, 113, 175],\n",
        "        [106, 114, 176],\n",
        "        [107, 115, 177],\n",
        "        ..., \n",
        "        [153, 170, 224],\n",
        "        [153, 170, 224],\n",
        "        [153, 170, 224]],\n",
        "\n",
        "       [[146, 154, 216],\n",
        "        [146, 154, 216],\n",
        "        [146, 154, 216],\n",
        "        ..., \n",
        "        [153, 170, 224],\n",
        "        [153, 170, 224],\n",
        "        [153, 170, 224]],\n",
        "\n",
        "       [[144, 154, 215],\n",
        "        [143, 153, 214],\n",
        "        [142, 152, 213],\n",
        "        ..., \n",
        "        [151, 171, 224],\n",
        "        [151, 171, 224],\n",
        "        [151, 171, 224]],\n",
        "\n",
        "       ..., \n",
        "       [[158, 119,  78],\n",
        "        [156, 118,  79],\n",
        "        [153, 117,  81],\n",
        "        ..., \n",
        "        [ 22,  69,  51],\n",
        "        [ 23,  65,  53],\n",
        "        [ 20,  62,  50]],\n",
        "\n",
        "       [[154, 124,  86],\n",
        "        [151, 123,  84],\n",
        "        [147, 121,  86],\n",
        "        ..., \n",
        "        [ 19,  62,  45],\n",
        "        [ 20,  58,  47],\n",
        "        [ 19,  57,  46]],\n",
        "\n",
        "       [[168, 142, 105],\n",
        "        [166, 142, 104],\n",
        "        [165, 142, 108],\n",
        "        ..., \n",
        "        [ 15,  56,  40],\n",
        "        [ 17,  53,  43],\n",
        "        [ 17,  53,  43]]], dtype=uint8)"
       ]
      }
     ],
     "prompt_number": 15
    },
    {
     "cell_type": "code",
     "collapsed": false,
     "input": [
      "#Show shape of image (Rows,Columns,Channels)\n",
      "img.shape "
     ],
     "language": "python",
     "metadata": {},
     "outputs": [
      {
       "metadata": {},
       "output_type": "pyout",
       "prompt_number": 16,
       "text": [
        "(900, 1200, 3)"
       ]
      }
     ],
     "prompt_number": 16
    },
    {
     "cell_type": "code",
     "collapsed": false,
     "input": [
      "#Show total number of pixels\n",
      "img.size"
     ],
     "language": "python",
     "metadata": {},
     "outputs": [
      {
       "metadata": {},
       "output_type": "pyout",
       "prompt_number": 17,
       "text": [
        "3240000"
       ]
      }
     ],
     "prompt_number": 17
    },
    {
     "cell_type": "code",
     "collapsed": false,
     "input": [],
     "language": "python",
     "metadata": {},
     "outputs": []
    }
   ],
   "metadata": {}
  }
 ]
}